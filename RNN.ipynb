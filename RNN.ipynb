{
  "nbformat": 4,
  "nbformat_minor": 0,
  "metadata": {
    "colab": {
      "provenance": [],
      "collapsed_sections": []
    },
    "kernelspec": {
      "name": "python3",
      "display_name": "Python 3"
    },
    "language_info": {
      "name": "python"
    },
    "accelerator": "GPU",
    "gpuClass": "standard"
  },
  "cells": [
    {
      "cell_type": "code",
      "execution_count": 3,
      "metadata": {
        "id": "Yv3kljsuVvMB"
      },
      "outputs": [],
      "source": [
        "import os\n",
        "import string\n",
        "import numpy as np\n",
        "import pandas as pd\n",
        "import matplotlib.pyplot as plt\n",
        "from collections import Counter\n",
        "from keras.utils import to_categorical\n",
        "from keras.utils.data_utils import get_file\n",
        "from keras.models import Sequential, load_model\n",
        "from keras.layers import Embedding, LSTM, Dense\n",
        "from keras.callbacks import EarlyStopping, ModelCheckpoint"
      ]
    },
    {
      "cell_type": "code",
      "source": [
        "path=get_file('nietzsche.txt',origin='https://s3.amazonaws.com/text-datasets/nietzsche.txt')\n",
        "with open(path, encoding='utf-8') as f:\n",
        "    raw_text=f.read()\n",
        "\n",
        "print('corpus length:',len(raw_text))\n",
        "print('example text:',raw_text[:150])"
      ],
      "metadata": {
        "colab": {
          "base_uri": "https://localhost:8080/"
        },
        "id": "FaryEWxtWwqU",
        "outputId": "f4dc34e4-80be-48bc-d5ca-0757f5c50e7b"
      },
      "execution_count": 4,
      "outputs": [
        {
          "output_type": "stream",
          "name": "stdout",
          "text": [
            "Downloading data from https://s3.amazonaws.com/text-datasets/nietzsche.txt\n",
            "600901/600901 [==============================] - 0s 0us/step\n",
            "corpus length: 600893\n",
            "example text: PREFACE\n",
            "\n",
            "\n",
            "SUPPOSING that Truth is a woman--what then? Is there not ground\n",
            "for suspecting that all philosophers, in so far as they have been\n",
            "dogmatists\n"
          ]
        }
      ]
    },
    {
      "cell_type": "code",
      "source": [
        "tokens=raw_text.replace('--', ' ').split()\n",
        "cleaned_tokens=[]\n",
        "table=str.maketrans('','', string.punctuation)\n",
        "for word in tokens:\n",
        "    word=word.translate(table)\n",
        "    if word.isalpha():\n",
        "        cleaned_tokens.append(word.lower())"
      ],
      "metadata": {
        "id": "fVt7L1xQWwnU"
      },
      "execution_count": 5,
      "outputs": []
    },
    {
      "cell_type": "code",
      "source": [
        "min_count=2\n",
        "unknown_token=''\n",
        "word2index={unknown_token: 0}\n",
        "index2word=[unknown_token]\n",
        "\n",
        "filtered_words=0\n",
        "counter=Counter(cleaned_tokens)\n",
        "for word, count in counter.items():\n",
        "    if count>=min_count:\n",
        "        index2word.append(word)\n",
        "        word2index[word]=len(word2index)\n",
        "    else:\n",
        "        filtered_words+=1\n",
        "\n",
        "num_classes=len(word2index)\n",
        "print('vocabulary size: ',num_classes)\n",
        "print('filtered words: ',filtered_words)\n"
      ],
      "metadata": {
        "colab": {
          "base_uri": "https://localhost:8080/"
        },
        "id": "WGbYU3O3WwkU",
        "outputId": "451da468-dcb3-421e-eeb7-b2b751f72b4e"
      },
      "execution_count": 6,
      "outputs": [
        {
          "output_type": "stream",
          "name": "stdout",
          "text": [
            "vocabulary size:  5090\n",
            "filtered words:  5097\n"
          ]
        }
      ]
    },
    {
      "cell_type": "code",
      "source": [
        "step=3\n",
        "maxlen=40\n",
        "X=[]\n",
        "y=[]\n",
        "for i in range(0,len(cleaned_tokens)-maxlen,step):\n",
        "    sentence=cleaned_tokens[i:i+maxlen]\n",
        "    next_word=cleaned_tokens[i+maxlen]\n",
        "    X.append([word2index.get(word,0) for word in sentence])\n",
        "    y.append(word2index.get(next_word,0))\n",
        "X=np.array(X)\n",
        "Y=to_categorical(y,num_classes)\n",
        "print('sequence dimension: ',X.shape)\n",
        "print('target dimension: ',Y.shape)\n",
        "print('example sequence:\\n',X[0])"
      ],
      "metadata": {
        "colab": {
          "base_uri": "https://localhost:8080/"
        },
        "id": "Y-aKoMzXWwhT",
        "outputId": "22deaf20-aade-4597-ee70-86178e283fea"
      },
      "execution_count": 7,
      "outputs": [
        {
          "output_type": "stream",
          "name": "stdout",
          "text": [
            "sequence dimension:  (33342, 40)\n",
            "target dimension:  (33342, 5090)\n",
            "example sequence:\n",
            " [ 1  2  3  4  5  6  7  8  9  5 10 11 12 13  0  3 14 15 16 17 18 19 20 21\n",
            " 22 23 21 24 25 26 27  3 28 29 30 31 32  0 33 34]\n"
          ]
        }
      ]
    },
    {
      "cell_type": "code",
      "source": [
        "embedding_size=50\n",
        "lstm_size=256\n",
        "model1=Sequential()\n",
        "model1.add(Embedding(num_classes,embedding_size,input_length=maxlen))\n",
        "model1.add(LSTM(lstm_size))\n",
        "model1.add(Dense(num_classes,activation='softmax'))\n",
        "model1.compile(loss='categorical_crossentropy',optimizer='adam')\n",
        "print(model1.summary())"
      ],
      "metadata": {
        "colab": {
          "base_uri": "https://localhost:8080/"
        },
        "id": "dahkG7fRWwej",
        "outputId": "be64663d-9a4d-47c5-af76-8822c2a69d1a"
      },
      "execution_count": 8,
      "outputs": [
        {
          "output_type": "stream",
          "name": "stdout",
          "text": [
            "Model: \"sequential\"\n",
            "_________________________________________________________________\n",
            " Layer (type)                Output Shape              Param #   \n",
            "=================================================================\n",
            " embedding (Embedding)       (None, 40, 50)            254500    \n",
            "                                                                 \n",
            " lstm (LSTM)                 (None, 256)               314368    \n",
            "                                                                 \n",
            " dense (Dense)               (None, 5090)              1308130   \n",
            "                                                                 \n",
            "=================================================================\n",
            "Total params: 1,876,998\n",
            "Trainable params: 1,876,998\n",
            "Non-trainable params: 0\n",
            "_________________________________________________________________\n",
            "None\n"
          ]
        }
      ]
    },
    {
      "cell_type": "code",
      "source": [
        "epochs=10\n",
        "batch_size=32\n",
        "validation_split=0.2\n",
        "address1='lstm_weights1.hdf5'\n",
        "print('model checkpoint address: ',address1)\n",
        "\n",
        "history=model1.fit(X,Y,batch_size=batch_size, \n",
        "                            epochs=epochs, verbose=1,\n",
        "                            validation_split=validation_split)\n",
        "\n",
        "model_info={'history': history,'model':model1}"
      ],
      "metadata": {
        "colab": {
          "base_uri": "https://localhost:8080/"
        },
        "id": "rPGwHhfcWwb0",
        "outputId": "5175045c-3298-4af5-f773-427a460750f6"
      },
      "execution_count": 9,
      "outputs": [
        {
          "output_type": "stream",
          "name": "stdout",
          "text": [
            "model checkpoint address:  lstm_weights1.hdf5\n",
            "Epoch 1/10\n",
            "834/834 [==============================] - 13s 8ms/step - loss: 6.3702 - val_loss: 6.2622\n",
            "Epoch 2/10\n",
            "834/834 [==============================] - 6s 8ms/step - loss: 5.9555 - val_loss: 6.2644\n",
            "Epoch 3/10\n",
            "834/834 [==============================] - 7s 8ms/step - loss: 5.7677 - val_loss: 6.2704\n",
            "Epoch 4/10\n",
            "834/834 [==============================] - 7s 8ms/step - loss: 5.6316 - val_loss: 6.3285\n",
            "Epoch 5/10\n",
            "834/834 [==============================] - 6s 8ms/step - loss: 5.5077 - val_loss: 6.4078\n",
            "Epoch 6/10\n",
            "834/834 [==============================] - 6s 7ms/step - loss: 5.3664 - val_loss: 6.4798\n",
            "Epoch 7/10\n",
            "834/834 [==============================] - 7s 8ms/step - loss: 5.1977 - val_loss: 6.5919\n",
            "Epoch 8/10\n",
            "834/834 [==============================] - 6s 7ms/step - loss: 4.9998 - val_loss: 6.7471\n",
            "Epoch 9/10\n",
            "834/834 [==============================] - 6s 7ms/step - loss: 4.7688 - val_loss: 6.8773\n",
            "Epoch 10/10\n",
            "834/834 [==============================] - 6s 7ms/step - loss: 4.5117 - val_loss: 7.0633\n"
          ]
        }
      ]
    },
    {
      "cell_type": "code",
      "source": [
        "def check_prediction(model, num_predict):\n",
        "    true_print_out='Actual words: '\n",
        "    pred_print_out='Predicted words: '\n",
        "    for i in range(num_predict):\n",
        "        x=X[i]\n",
        "        prediction=model.predict(x[np.newaxis, :], verbose = 0)\n",
        "        index=np.argmax(prediction)\n",
        "        true_print_out+=index2word[y[i]]+' '\n",
        "        pred_print_out+=index2word[index]+' '\n",
        "\n",
        "    print(true_print_out)\n",
        "    print(pred_print_out)"
      ],
      "metadata": {
        "id": "YHz26GD1WwZE"
      },
      "execution_count": 10,
      "outputs": []
    },
    {
      "cell_type": "code",
      "source": [
        "num_predict=10\n",
        "model=model_info['model']\n",
        "check_prediction(model,num_predict)"
      ],
      "metadata": {
        "id": "t3AgSqSnWwWW",
        "colab": {
          "base_uri": "https://localhost:8080/"
        },
        "outputId": "73700fe3-9154-4473-d405-207391090a3b"
      },
      "execution_count": 11,
      "outputs": [
        {
          "output_type": "stream",
          "name": "stdout",
          "text": [
            "Actual words: they paid to been unseemly  certainly never to and \n",
            "Predicted words: is down and   the is been to and \n"
          ]
        }
      ]
    }
  ]
}