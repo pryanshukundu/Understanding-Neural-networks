{
  "nbformat": 4,
  "nbformat_minor": 0,
  "metadata": {
    "colab": {
      "provenance": []
    },
    "kernelspec": {
      "name": "python3",
      "display_name": "Python 3"
    },
    "language_info": {
      "name": "python"
    }
  },
  "cells": [
    {
      "cell_type": "code",
      "execution_count": 4,
      "metadata": {
        "colab": {
          "base_uri": "https://localhost:8080/"
        },
        "id": "DCEAG-11LFTn",
        "outputId": "81fbc87f-5a2d-4cc7-8fcc-5bd3f4931f0e"
      },
      "outputs": [
        {
          "output_type": "stream",
          "name": "stdout",
          "text": [
            "DONE\n"
          ]
        }
      ],
      "source": [
        "import warnings\n",
        "import pandas as pd  \n",
        "warnings.filterwarnings(\"ignore\")\n",
        "from sklearn.datasets import load_boston\n",
        "from sklearn import preprocessing\n",
        "import pandas as pd\n",
        "import numpy as np\n",
        "import matplotlib.pyplot as plt\n",
        "from prettytable import PrettyTable\n",
        "from sklearn.linear_model import SGDRegressor\n",
        "from sklearn import preprocessing\n",
        "from sklearn.metrics import mean_squared_error\n",
        "from numpy import random\n",
        "from sklearn.model_selection import train_test_split\n",
        "print(\"DONE\")"
      ]
    },
    {
      "cell_type": "code",
      "source": [
        "boston_data=pd.DataFrame(load_boston().data,columns=load_boston().feature_names)\n",
        "Y=load_boston().target\n",
        "X=load_boston().data\n",
        "x_train,x_test,y_train,y_test=train_test_split(X,Y,test_size=0.3)\n",
        "\n",
        "print(\"X Shape: \",X.shape)\n",
        "print(\"Y Shape: \",Y.shape)\n",
        "print(\"X_Train Shape: \",x_train.shape)\n",
        "print(\"X_Test Shape: \",x_test.shape)\n",
        "print(\"Y_Train Shape: \",y_train.shape)\n",
        "print(\"Y_Test Shape: \",y_test.shape)\n",
        "\n",
        "# standardizing data\n",
        "scaler = preprocessing.StandardScaler().fit(x_train)\n",
        "x_train = scaler.transform(x_train)\n",
        "x_test=scaler.transform(x_test)\n",
        "\n",
        "## Adding the PRIZE Column in the data\n",
        "train_data=pd.DataFrame(x_train)\n",
        "train_data['price']=y_train\n",
        "train_data.head(3)\n",
        "\n",
        "x_test=np.array(x_test)\n",
        "y_test=np.array(y_test)"
      ],
      "metadata": {
        "colab": {
          "base_uri": "https://localhost:8080/"
        },
        "id": "Y1hLtK4FZjg3",
        "outputId": "5d90ca62-b76f-47c5-c97d-d17f0899c7fe"
      },
      "execution_count": 5,
      "outputs": [
        {
          "output_type": "stream",
          "name": "stdout",
          "text": [
            "X Shape:  (506, 13)\n",
            "Y Shape:  (506,)\n",
            "X_Train Shape:  (354, 13)\n",
            "X_Test Shape:  (152, 13)\n",
            "Y_Train Shape:  (354,)\n",
            "Y_Test Shape:  (152,)\n"
          ]
        }
      ]
    },
    {
      "cell_type": "markdown",
      "source": [
        "# SKLEARN SGD CLASSIFIER"
      ],
      "metadata": {
        "id": "h0CqergoZns7"
      }
    },
    {
      "cell_type": "code",
      "source": [
        "n_iter=100\n",
        "clf_ = SGDRegressor(max_iter=n_iter)\n",
        "clf_.fit(x_train, y_train)\n",
        "\n",
        "y_pred_sksgd=clf_.predict(x_test)\n",
        "plt.scatter(y_test,y_pred_sksgd)\n",
        "plt.grid()\n",
        "plt.xlabel('Actual y')\n",
        "plt.ylabel('Predicted y')\n",
        "plt.title('Scatter plot from actual y and predicted y')\n",
        "plt.show()\n",
        "\n",
        "print('Mean Squared Error :',mean_squared_error(y_test, y_pred_sksgd))"
      ],
      "metadata": {
        "colab": {
          "base_uri": "https://localhost:8080/",
          "height": 312
        },
        "id": "s7b-UMkqZjdX",
        "outputId": "1a493cdc-950f-4a6f-83f5-2eee25b20198"
      },
      "execution_count": 6,
      "outputs": [
        {
          "output_type": "display_data",
          "data": {
            "text/plain": [
              "<Figure size 432x288 with 1 Axes>"
            ],
            "image/png": "[encoded data removed]"
          },
          "metadata": {
            "needs_background": "light"
          }
        },
        {
          "output_type": "stream",
          "name": "stdout",
          "text": [
            "Mean Squared Error : 25.373338935610906\n"
          ]
        }
      ]
    }
  ]
}