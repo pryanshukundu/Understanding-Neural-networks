{
  "nbformat": 4,
  "nbformat_minor": 0,
  "metadata": {
    "colab": {
      "provenance": []
    },
    "kernelspec": {
      "name": "python3",
      "display_name": "Python 3"
    },
    "language_info": {
      "name": "python"
    }
  },
  "cells": [
    {
      "cell_type": "code",
      "execution_count": 1,
      "metadata": {
        "colab": {
          "base_uri": "https://localhost:8080/",
          "height": 1000
        },
        "id": "5bv8K6dO0oiZ",
        "outputId": "dcdab1ae-8470-48be-c264-0cf6128c66c3"
      },
      "outputs": [
        {
          "output_type": "stream",
          "name": "stdout",
          "text": [
            "<class 'pandas.core.frame.DataFrame'>\n",
            "RangeIndex: 5001 entries, 0 to 5000\n",
            "Data columns (total 8 columns):\n",
            " #   Column                     Non-Null Count  Dtype  \n",
            "---  ------                     --------------  -----  \n",
            " 0   long_hair                  5001 non-null   int64  \n",
            " 1   forehead_width_cm          5001 non-null   float64\n",
            " 2   forehead_height_cm         5001 non-null   float64\n",
            " 3   nose_wide                  5001 non-null   int64  \n",
            " 4   nose_long                  5001 non-null   int64  \n",
            " 5   lips_thin                  5001 non-null   int64  \n",
            " 6   distance_nose_to_lip_long  5001 non-null   int64  \n",
            " 7   gender                     5001 non-null   object \n",
            "dtypes: float64(2), int64(5), object(1)\n",
            "memory usage: 312.7+ KB\n",
            "      long_hair  forehead_width_cm  forehead_height_cm  nose_wide  nose_long  \\\n",
            "0             1               11.8                 6.1          1          0   \n",
            "1             0               14.0                 5.4          0          0   \n",
            "2             0               11.8                 6.3          1          1   \n",
            "3             0               14.4                 6.1          0          1   \n",
            "4             1               13.5                 5.9          0          0   \n",
            "...         ...                ...                 ...        ...        ...   \n",
            "4996          1               13.6                 5.1          0          0   \n",
            "4997          1               11.9                 5.4          0          0   \n",
            "4998          1               12.9                 5.7          0          0   \n",
            "4999          1               13.2                 6.2          0          0   \n",
            "5000          1               15.4                 5.4          1          1   \n",
            "\n",
            "      lips_thin  distance_nose_to_lip_long  gender  \n",
            "0             1                          1       1  \n",
            "1             1                          0       0  \n",
            "2             1                          1       1  \n",
            "3             1                          1       1  \n",
            "4             0                          0       0  \n",
            "...         ...                        ...     ...  \n",
            "4996          0                          0       0  \n",
            "4997          0                          0       0  \n",
            "4998          0                          0       0  \n",
            "4999          0                          0       0  \n",
            "5000          1                          1       1  \n",
            "\n",
            "[5001 rows x 8 columns]\n",
            "Epoch 1/9\n",
            "3350/3350 [==============================] - 6s 2ms/step - loss: 0.3771 - accuracy: 0.9364\n",
            "Epoch 2/9\n",
            "3350/3350 [==============================] - 5s 1ms/step - loss: 0.0524 - accuracy: 0.9973\n",
            "Epoch 3/9\n",
            "3350/3350 [==============================] - 5s 1ms/step - loss: 0.0210 - accuracy: 0.9991\n",
            "Epoch 4/9\n",
            "3350/3350 [==============================] - 6s 2ms/step - loss: 0.0127 - accuracy: 0.9997\n",
            "Epoch 5/9\n",
            "3350/3350 [==============================] - 5s 1ms/step - loss: 0.0089 - accuracy: 0.9997\n",
            "Epoch 6/9\n",
            "3350/3350 [==============================] - 5s 2ms/step - loss: 0.0067 - accuracy: 1.0000\n",
            "Epoch 7/9\n",
            "3350/3350 [==============================] - 5s 2ms/step - loss: 0.0054 - accuracy: 1.0000\n",
            "Epoch 8/9\n",
            "3350/3350 [==============================] - 5s 2ms/step - loss: 0.0044 - accuracy: 1.0000\n",
            "Epoch 9/9\n",
            "3350/3350 [==============================] - 5s 1ms/step - loss: 0.0037 - accuracy: 1.0000\n",
            "52/52 [==============================] - 0s 1ms/step\n",
            "52/52 [==============================] - 0s 2ms/step - loss: 0.0048 - accuracy: 0.9994\n",
            "[0.0048131514340639114, 0.9993942975997925]\n"
          ]
        },
        {
          "output_type": "display_data",
          "data": {
            "text/plain": [
              "<Figure size 432x288 with 2 Axes>"
            ],
            "image/png": "[encoded data removed]"
          },
          "metadata": {
            "needs_background": "light"
          }
        }
      ],
      "source": [
        "\n",
        "\n",
        "import tensorflow as tf\n",
        "from keras.models import Sequential\n",
        "import pandas as pd\n",
        "from keras.layers import Dense\n",
        "data = pd.read_csv('/content/gender_classification_v7.csv', delimiter=',')\n",
        "\n",
        "data.describe()\n",
        "\n",
        "data.info()\n",
        "\n",
        "import seaborn as sns\n",
        "import matplotlib as plt\n",
        "corr = data.corr()\n",
        "sns.heatmap(corr, \n",
        "xticklabels=corr.columns.values,\n",
        "yticklabels=corr.columns.values)\n",
        "\n",
        "data['forehead_width_cm'].corr( data[\"lips_thin\"])\n",
        "\n",
        "data[\"nose_wide\"].corr(data[\"lips_thin\"])\n",
        "\n",
        "data.gender.replace(('Male','Female'), (1, 0), inplace=True)\n",
        "\n",
        "print(data)\n",
        "\n",
        "import numpy as np\n",
        "labels=data['gender']\n",
        "features = data.iloc[:,0:8]\n",
        "from sklearn.model_selection import train_test_split\n",
        "X=features\n",
        "y=np.ravel(labels)\n",
        "X_train, X_test, y_train, y_test = train_test_split(X, y, test_size=0.33, random_state=42)\n",
        "\n",
        "from sklearn.preprocessing import StandardScaler\n",
        "scaler = StandardScaler().fit(X_train)\n",
        "X_train = scaler.transform(X_train)\n",
        "X_test = scaler.transform(X_test)\n",
        "\n",
        "from keras.models import Sequential\n",
        "from keras.layers import Dense\n",
        "model = Sequential()\n",
        "model.add(Dense(8, activation='sigmoid', input_shape=(8,)))\n",
        "model.add(Dense(8, activation='sigmoid'))\n",
        "model.add(Dense(1, activation='sigmoid'))\n",
        "\n",
        "model.compile(loss='binary_crossentropy',\n",
        "optimizer='sgd',\n",
        "metrics=['accuracy'])\n",
        "model.fit(X_train, y_train,epochs=9, batch_size=1, verbose=1)\n",
        "\n",
        "for layer in model.layers:\n",
        "  weights = layer.get_weights()\n",
        "\n",
        "predictions = (model.predict(X_test) > 0.5).astype(\"int32\")\n",
        "\n",
        "score = model.evaluate(X_test, y_test,verbose=1)\n",
        "print(score)"
      ]
    }
  ]
}