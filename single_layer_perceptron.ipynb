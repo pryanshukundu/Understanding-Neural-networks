{
  "nbformat": 4,
  "nbformat_minor": 0,
  "metadata": {
    "colab": {
      "provenance": [],
      "collapsed_sections": []
    },
    "kernelspec": {
      "name": "python3",
      "display_name": "Python 3"
    },
    "language_info": {
      "name": "python"
    }
  },
  "cells": [
    {
      "cell_type": "code",
      "execution_count": 1,
      "metadata": {
        "id": "kABDp4GD5vdO"
      },
      "outputs": [],
      "source": [
        "import numpy as np\n",
        "import pandas as pd \n",
        "from sklearn.model_selection import train_test_split\n",
        "from sklearn.metrics import accuracy_score\n",
        "from sklearn.datasets import load_breast_cancer"
      ]
    },
    {
      "cell_type": "code",
      "source": [
        "cancer = load_breast_cancer()\n",
        "data = pd.DataFrame(cancer.data, columns=cancer.feature_names)\n",
        "data['Class'] = cancer.target\n",
        "\n",
        "X = data.drop('Class', axis=1)\n",
        "y = data['Class']\n",
        "\n",
        "x_train, x_test, y_train, y_test = train_test_split(X, y,\n",
        "                                                    test_size=0.2,\n",
        "                                                    random_state=3,\n",
        "                                                    stratify=y)\n",
        "\n",
        "x_train_bin = x_train.apply(pd.cut, bins=2, labels=[1, 0]).values\n",
        "x_test_bin = x_test.apply(pd.cut, bins=2, labels=[1, 0]).values"
      ],
      "metadata": {
        "id": "zJB6pT9S7MQZ"
      },
      "execution_count": 2,
      "outputs": []
    },
    {
      "cell_type": "code",
      "source": [
        "class MPNeuron:\n",
        "    def __init__(self):\n",
        "        self.b = 0\n",
        "\n",
        "    def Model(self, x):\n",
        "        return np.sum(x) >= self.b\n",
        "\n",
        "    def fit(self, x, y):\n",
        "        accuracy = {}\n",
        "        for b in range(x.shape[1] + 1):\n",
        "            self.b = b\n",
        "            yhat = []\n",
        "            for row in x:\n",
        "                yhat.append(self.Model(row))\n",
        "\n",
        "            accuracy[b] = accuracy_score(y, yhat)\n",
        "        \n",
        "        best_b = max(accuracy, key=accuracy.get)\n",
        "        self.b = best_b\n",
        "        return accuracy, best_b, accuracy[best_b]\n",
        "\n",
        "    def predict(self, x, y):\n",
        "        yhat = []\n",
        "        for row in x:\n",
        "            yhat.append(self.Model(row))\n",
        "\n",
        "        accuracy = accuracy_score(y, yhat)\n",
        "        return accuracy"
      ],
      "metadata": {
        "id": "AaFFFA9OBWs2"
      },
      "execution_count": 3,
      "outputs": []
    },
    {
      "cell_type": "code",
      "source": [
        "neuron = MPNeuron()\n",
        "accuracy, best_b, accuracy_model = neuron.fit(x_train_bin, y_train)\n",
        "print(f\"Training set accuracy: {(accuracy_model * 100):.2f}%\")\n",
        "\n",
        "accuracy = neuron.predict(x_test_bin, y_test)\n",
        "print(f\"Testing set accuracy: {(accuracy * 100):.2f}%\")"
      ],
      "metadata": {
        "colab": {
          "base_uri": "https://localhost:8080/"
        },
        "id": "bHl-8StqC8ho",
        "outputId": "e7435fef-79f7-4ba2-e02a-a3ca061345f9"
      },
      "execution_count": 4,
      "outputs": [
        {
          "output_type": "stream",
          "name": "stdout",
          "text": [
            "Training set accuracy: 84.84%\n",
            "Testing set accuracy: 87.72%\n"
          ]
        }
      ]
    },
    {
      "cell_type": "code",
      "source": [
        "class Perceptron:\n",
        "    def __init__(self):\n",
        "        self.w = None\n",
        "        self.b = None\n",
        "\n",
        "    def model(self, x):\n",
        "        return 1 if np.dot(self.w, x) >= self.b else 0\n",
        "\n",
        "    def predict(self, X):\n",
        "        Y = []\n",
        "        for x in X:\n",
        "            result = self.model(x)\n",
        "            Y.append(result)\n",
        "        return np.array(Y)\n",
        "\n",
        "    def fit(self, X, Y, epochs=1, lr=1):\n",
        "        self.w = np.ones(X.shape[1])\n",
        "        self.b = 0\n",
        "\n",
        "        accuracy = {}\n",
        "        max_accuracy = 0\n",
        "        for i in range(epochs):\n",
        "            for x, y in zip(X, Y):\n",
        "                y_pred = self.model(x)\n",
        "                if y == 1 and y_pred == 0:\n",
        "                    self.w = self.w + lr * x\n",
        "                    self.b = self.b - lr * 1\n",
        "                elif y == 0 and y_pred == 1:\n",
        "                    self.w = self.w - lr * x\n",
        "                    self.b = self.b + lr * 1\n",
        "            \n",
        "            accuracy[i] = accuracy_score(self.predict(X), Y)\n",
        "\n",
        "            if (accuracy[i] > max_accuracy):\n",
        "                max_accuracy = accuracy[i]\n",
        "                chkptw = self.w\n",
        "                chkptb = self.b\n",
        "        \n",
        "        self.w = chkptw\n",
        "        self.b = chkptb"
      ],
      "metadata": {
        "id": "NYhvrJVtDrRw"
      },
      "execution_count": 5,
      "outputs": []
    },
    {
      "cell_type": "code",
      "source": [
        "model = Perceptron()\n",
        "model.fit(x_train.values, y_train.values, 10000, 0.0001)\n",
        "\n",
        "yhat = model.predict(x_train.values)\n",
        "accuracy = accuracy_score(y_train.values, yhat)\n",
        "print(f\"Training set accuracy: {(accuracy * 100):.2f}%\")\n",
        "\n",
        "yhat = model.predict(x_test.values)\n",
        "accuracy = accuracy_score(y_test.values, yhat)\n",
        "print(f\"Testing set accuracy: {(accuracy * 100):.2f}%\")"
      ],
      "metadata": {
        "colab": {
          "base_uri": "https://localhost:8080/"
        },
        "id": "kGK_UfYpF7nL",
        "outputId": "e59d1e76-f427-4fbc-aa19-09984ffbc413"
      },
      "execution_count": 6,
      "outputs": [
        {
          "output_type": "stream",
          "name": "stdout",
          "text": [
            "Training set accuracy: 93.85%\n",
            "Testing set accuracy: 94.74%\n"
          ]
        }
      ]
    }
  ]
}